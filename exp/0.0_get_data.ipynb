{
 "cells": [
  {
   "cell_type": "code",
   "execution_count": 2,
   "metadata": {},
   "outputs": [],
   "source": [
    "from Bio import Entrez\n",
    "import os"
   ]
  },
  {
   "cell_type": "code",
   "execution_count": 3,
   "metadata": {},
   "outputs": [
    {
     "name": "stdout",
     "output_type": "stream",
     "text": [
      "Fetching NC_006350.1.fasta\n",
      "NC_006350.1.fasta saved\n",
      "Fetching NC_006351.1.fasta\n",
      "NC_006351.1.fasta saved\n",
      "Fetching NC_017831.1.fasta\n",
      "NC_017831.1.fasta saved\n",
      "Fetching NC_017832.1.fasta\n",
      "NC_017832.1.fasta saved\n",
      "Fetching NZ_CP008781.1.fasta\n",
      "NZ_CP008781.1.fasta saved\n",
      "Fetching NZ_CP008782.1.fasta\n",
      "NZ_CP008782.1.fasta saved\n",
      "Fetching NZ_CP008758.1.fasta\n",
      "NZ_CP008758.1.fasta saved\n",
      "Fetching NZ_CP008759.1.fasta\n",
      "NZ_CP008759.1.fasta saved\n",
      "Fetching NZ_CM001156.1.fasta\n",
      "NZ_CM001156.1.fasta saved\n",
      "Fetching NZ_CM001157.1.fasta\n",
      "NZ_CM001157.1.fasta saved\n",
      "Fetching NZ_CP013411.1.fasta\n",
      "NZ_CP013411.1.fasta saved\n",
      "Fetching NZ_CP013413.1.fasta\n",
      "NZ_CP013413.1.fasta saved\n",
      "Fetching NZ_CP068709.1.fasta\n",
      "NZ_CP068709.1.fasta saved\n",
      "Fetching NZ_CP068710.1.fasta\n",
      "NZ_CP068710.1.fasta saved\n",
      "Fetching  NZ_CP050020.1.fasta\n",
      " NZ_CP050020.1.fasta saved\n",
      "Fetching  NZ_CP050021.1.fasta\n",
      " NZ_CP050021.1.fasta saved\n",
      "Fetching NZ_CP009727.1.fasta\n",
      "NZ_CP009727.1.fasta saved\n",
      "Fetching NZ_CP009728.1.fasta\n",
      "NZ_CP009728.1.fasta saved\n",
      "Fetching NC_006348.1.fasta\n",
      "NC_006348.1.fasta saved\n",
      "Fetching NC_006349.2.fasta\n",
      "NC_006349.2.fasta saved\n",
      "Fetching NZ_CP009929.1.fasta\n",
      "NZ_CP009929.1.fasta saved\n",
      "Fetching NZ_CP009930.1.fasta\n",
      "NZ_CP009930.1.fasta saved\n",
      "Fetching NZ_CP013450.1.fasta\n",
      "NZ_CP013450.1.fasta saved\n",
      "Fetching NZ_CP013452.1.fasta\n",
      "NZ_CP013452.1.fasta saved\n",
      "Fetching NZ_CP013451.1.fasta\n",
      "NZ_CP013451.1.fasta saved\n",
      "Fetching NC_002516.2.fasta\n",
      "NC_002516.2.fasta saved\n",
      "Fetching NZ_CP069336.1.fasta\n",
      "NZ_CP069336.1.fasta saved\n",
      "Fetching NC_000913.3.fasta\n",
      "NC_000913.3.fasta saved\n",
      "Fetching NC_002695.2.fasta\n",
      "NC_002695.2.fasta saved\n"
     ]
    }
   ],
   "source": [
    "acc_id = ['NC_006350.1','NC_006351.1','NC_017831.1','NC_017832.1','NZ_CP008781.1','NZ_CP008782.1','NZ_CP008758.1','NZ_CP008759.1','NZ_CM001156.1','NZ_CM001157.1','NZ_CP013411.1','NZ_CP013413.1','NZ_CP068709.1','NZ_CP068710.1','NZ_CP050020.1','NZ_CP050021.1','NZ_CP009727.1','NZ_CP009728.1','NC_006348.1','NC_006349.2','NZ_CP009929.1','NZ_CP009930.1','NZ_CP013450.1','NZ_CP013452.1','NZ_CP013451.1','NC_002516.2','NZ_CP069336.1','NC_000913.3','NC_002695.2']\n",
    "output = 'data/fasta'\n",
    "Entrez.email = 'justintzeji@gmail.com'\n",
    "\n",
    "for acc in acc_id:\n",
    "\tprint(\"Fetching \" + acc + \".fasta\")\n",
    "\n",
    "\thandle = Entrez.efetch(db= 'nuccore', id = acc, rettype = \"fasta\", retmode = \"text\")\n",
    "\n",
    "\tfilename = os.path.join(output,acc+'.fasta')\n",
    "\twith open(filename, 'w') as out_handle:\n",
    "\t\tout_handle.write(handle.read())\n",
    "\n",
    "\tprint(acc + \".fasta saved\")"
   ]
  }
 ],
 "metadata": {
  "kernelspec": {
   "display_name": "Python 3.8.13 ('base')",
   "language": "python",
   "name": "python3"
  },
  "language_info": {
   "codemirror_mode": {
    "name": "ipython",
    "version": 3
   },
   "file_extension": ".py",
   "mimetype": "text/x-python",
   "name": "python",
   "nbconvert_exporter": "python",
   "pygments_lexer": "ipython3",
   "version": "3.8.13"
  },
  "orig_nbformat": 4,
  "vscode": {
   "interpreter": {
    "hash": "98ebdfb4e246a1692d4e96f3f752af76d9718d65a51dcd4cc3d9010affce8028"
   }
  }
 },
 "nbformat": 4,
 "nbformat_minor": 2
}
