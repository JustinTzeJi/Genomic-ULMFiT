{
 "cells": [
  {
   "cell_type": "markdown",
   "metadata": {},
   "source": [
    "# Bacterial Ensemble Data Processing\n",
    "\n",
    "This notebook creates a language model dataset from an ensemble of bacterial genomes. This dataset will be used for unsupervised learning, so it will simply be the text of the genome.\n",
    "\n",
    "#### Data Source\n",
    "All genomes are downloaded from [NCBI](https://www.ncbi.nlm.nih.gov/genome/browse#!/overview/)"
   ]
  },
  {
   "cell_type": "code",
   "execution_count": 1,
   "metadata": {},
   "outputs": [],
   "source": [
    "%reload_ext autoreload\n",
    "%autoreload 2\n",
    "%matplotlib inline"
   ]
  },
  {
   "cell_type": "code",
   "execution_count": 13,
   "metadata": {},
   "outputs": [],
   "source": [
    "from fastai import *\n",
    "from fastai.text import *\n",
    "from Bio import Seq\n",
    "from Bio.Seq import Seq\n",
    "from Bio import SeqIO\n",
    "from Bio.SeqRecord import SeqRecord\n",
    "from Bio.SeqFeature import FeatureLocation, CompoundLocation\n",
    "import networkx as nx"
   ]
  },
  {
   "cell_type": "code",
   "execution_count": 3,
   "metadata": {},
   "outputs": [],
   "source": [
    "sys.path.append(\"..\")\n",
    "from utils import *"
   ]
  },
  {
   "cell_type": "code",
   "execution_count": 6,
   "metadata": {},
   "outputs": [],
   "source": [
    "path = Path('data/')"
   ]
  },
  {
   "cell_type": "markdown",
   "metadata": {},
   "source": [
    "Genome files used:"
   ]
  },
  {
   "cell_type": "code",
   "execution_count": 8,
   "metadata": {},
   "outputs": [
    {
     "data": {
      "text/plain": [
       "['NZ_CP008758.1.fasta',\n",
       " 'NC_006351.1.fasta',\n",
       " 'NC_017831.1.fasta',\n",
       " 'NZ_CP009929.1.fasta',\n",
       " 'NC_006349.2.fasta',\n",
       " 'NC_002516.2.fasta',\n",
       " 'NZ_CP013450.1.fasta',\n",
       " 'NC_017832.1.fasta',\n",
       " 'NZ_CP008782.1.fasta',\n",
       " 'NC_006350.1.fasta',\n",
       " 'NZ_CP069336.1.fasta',\n",
       " 'NZ_CP009727.1.fasta',\n",
       " 'NC_006348.1.fasta',\n",
       " 'NC_000913.3.fasta',\n",
       " 'NZ_CM001156.1.fasta',\n",
       " 'NZ_CP009728.1.fasta',\n",
       " 'NZ_CP013451.1.fasta',\n",
       " 'NZ_CP050021.1.fasta',\n",
       " 'NZ_CP013413.1.fasta',\n",
       " 'NZ_CP008759.1.fasta',\n",
       " 'NZ_CM001157.1.fasta',\n",
       " 'NZ_CP013411.1.fasta',\n",
       " 'NZ_CP068710.1.fasta',\n",
       " 'NZ_CP068709.1.fasta',\n",
       " 'NC_002695.2.fasta',\n",
       " 'NZ_CP013452.1.fasta',\n",
       " 'NZ_CP008781.1.fasta',\n",
       " 'NZ_CP009930.1.fasta',\n",
       " 'NZ_CP050020.1.fasta']"
      ]
     },
     "execution_count": 8,
     "metadata": {},
     "output_type": "execute_result"
    }
   ],
   "source": [
    "os.listdir(path/'fasta')"
   ]
  },
  {
   "cell_type": "code",
   "execution_count": 25,
   "metadata": {},
   "outputs": [],
   "source": [
    "valid_pct = 0.1\n",
    "dfs_trn = []\n",
    "dfs_val = []\n",
    "for file in os.listdir(path/'fasta'):\n",
    "    for record in SeqIO.parse(path/'fasta'/file, \"fasta\"):\n",
    "        source = record.description\n",
    "    \n",
    "    data = process_fasta(path/'fasta'/file, 2000, 900)\n",
    "    \n",
    "    df = pd.DataFrame(data, columns=['Sequence'])\n",
    "    df['Source'] = source\n",
    "    cut = int((1-valid_pct) * len(df)) + 1\n",
    "    train_df, valid_df = df[:cut], df[cut:]\n",
    "    dfs_trn.append(train_df)\n",
    "    dfs_val.append(valid_df)\n",
    "\n",
    "df_trn = pd.concat(dfs_trn)\n",
    "df_trn['set'] = 'train'\n",
    "df_val = pd.concat(dfs_val)\n",
    "df_val['set'] = 'valid'\n",
    "\n",
    "data_df = pd.concat(dfs_trn+dfs_val)\n",
    "data_df.reset_index(inplace=True, drop=True)\n",
    "data_df.to_csv(path/'bacterial_data.csv', index=False)"
   ]
  },
  {
   "cell_type": "code",
   "execution_count": 26,
   "metadata": {},
   "outputs": [
    {
     "data": {
      "text/html": [
       "<div>\n",
       "<style scoped>\n",
       "    .dataframe tbody tr th:only-of-type {\n",
       "        vertical-align: middle;\n",
       "    }\n",
       "\n",
       "    .dataframe tbody tr th {\n",
       "        vertical-align: top;\n",
       "    }\n",
       "\n",
       "    .dataframe thead th {\n",
       "        text-align: right;\n",
       "    }\n",
       "</style>\n",
       "<table border=\"1\" class=\"dataframe\">\n",
       "  <thead>\n",
       "    <tr style=\"text-align: right;\">\n",
       "      <th></th>\n",
       "      <th>Sequence</th>\n",
       "      <th>Source</th>\n",
       "    </tr>\n",
       "  </thead>\n",
       "  <tbody>\n",
       "    <tr>\n",
       "      <th>0</th>\n",
       "      <td>CGTTCGATCATCGGTTCCCGCATTCATACCACCCCGACACGACGGC...</td>\n",
       "      <td>NZ_CP008758.1 Burkholderia pseudomallei strain...</td>\n",
       "    </tr>\n",
       "    <tr>\n",
       "      <th>1</th>\n",
       "      <td>CGTCGTGTTCGACGGCGCGCGCCATCACAGCATGGCGCGCGATCGC...</td>\n",
       "      <td>NZ_CP008758.1 Burkholderia pseudomallei strain...</td>\n",
       "    </tr>\n",
       "    <tr>\n",
       "      <th>2</th>\n",
       "      <td>CAGGCGATCGATTTCACGACGGTGATCTATCGCGTGCCGACGCAGC...</td>\n",
       "      <td>NZ_CP008758.1 Burkholderia pseudomallei strain...</td>\n",
       "    </tr>\n",
       "    <tr>\n",
       "      <th>3</th>\n",
       "      <td>AATGCGTGGCGAACGGCTCACAGGCGCAGGCGTGCGATGCGCTCGA...</td>\n",
       "      <td>NZ_CP008758.1 Burkholderia pseudomallei strain...</td>\n",
       "    </tr>\n",
       "    <tr>\n",
       "      <th>4</th>\n",
       "      <td>AGCGCGGCCGGAAACGACGGGTATTCGCGCGCCGGCCGGGCGAGCT...</td>\n",
       "      <td>NZ_CP008758.1 Burkholderia pseudomallei strain...</td>\n",
       "    </tr>\n",
       "  </tbody>\n",
       "</table>\n",
       "</div>"
      ],
      "text/plain": [
       "                                            Sequence  \\\n",
       "0  CGTTCGATCATCGGTTCCCGCATTCATACCACCCCGACACGACGGC...   \n",
       "1  CGTCGTGTTCGACGGCGCGCGCCATCACAGCATGGCGCGCGATCGC...   \n",
       "2  CAGGCGATCGATTTCACGACGGTGATCTATCGCGTGCCGACGCAGC...   \n",
       "3  AATGCGTGGCGAACGGCTCACAGGCGCAGGCGTGCGATGCGCTCGA...   \n",
       "4  AGCGCGGCCGGAAACGACGGGTATTCGCGCGCCGGCCGGGCGAGCT...   \n",
       "\n",
       "                                              Source  \n",
       "0  NZ_CP008758.1 Burkholderia pseudomallei strain...  \n",
       "1  NZ_CP008758.1 Burkholderia pseudomallei strain...  \n",
       "2  NZ_CP008758.1 Burkholderia pseudomallei strain...  \n",
       "3  NZ_CP008758.1 Burkholderia pseudomallei strain...  \n",
       "4  NZ_CP008758.1 Burkholderia pseudomallei strain...  "
      ]
     },
     "execution_count": 26,
     "metadata": {},
     "output_type": "execute_result"
    }
   ],
   "source": [
    "data_df.head()"
   ]
  },
  {
   "cell_type": "code",
   "execution_count": 27,
   "metadata": {},
   "outputs": [
    {
     "data": {
      "text/plain": [
       "(113675, 2)"
      ]
     },
     "execution_count": 27,
     "metadata": {},
     "output_type": "execute_result"
    }
   ],
   "source": [
    "data_df.shape"
   ]
  }
 ],
 "metadata": {
  "kernelspec": {
   "display_name": "Python 3.8.13 ('base')",
   "language": "python",
   "name": "python3"
  },
  "language_info": {
   "codemirror_mode": {
    "name": "ipython",
    "version": 3
   },
   "file_extension": ".py",
   "mimetype": "text/x-python",
   "name": "python",
   "nbconvert_exporter": "python",
   "pygments_lexer": "ipython3",
   "version": "3.8.13"
  },
  "vscode": {
   "interpreter": {
    "hash": "98ebdfb4e246a1692d4e96f3f752af76d9718d65a51dcd4cc3d9010affce8028"
   }
  }
 },
 "nbformat": 4,
 "nbformat_minor": 2
}
